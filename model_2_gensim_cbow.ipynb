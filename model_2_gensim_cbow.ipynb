{
 "cells": [
  {
   "cell_type": "markdown",
   "id": "74562192",
   "metadata": {},
   "source": [
    "# Word2Vec By Gensim"
   ]
  },
  {
   "cell_type": "markdown",
   "id": "ab9bd4c2",
   "metadata": {},
   "source": [
    "### Model #2 - CBOW - Window size = 5 , Epochs = 50 , No Pre-Processing"
   ]
  },
  {
   "cell_type": "code",
   "execution_count": 1,
   "id": "31d5251a",
   "metadata": {},
   "outputs": [],
   "source": [
    "# reading english translate file of quran (Includes 7 files)\n",
    "f = open(\"en.all_7.txt\",\"r\", encoding=\"utf-8-sig\")\n",
    "lines = f.readlines()"
   ]
  },
  {
   "cell_type": "code",
   "execution_count": 2,
   "id": "e2921c11",
   "metadata": {},
   "outputs": [],
   "source": [
    "# split ayahs\n",
    "q_sents=[]\n",
    "for line in lines:\n",
    "    q_sents.append(line.split('|')[2].replace(',','').replace('\"','').lower())"
   ]
  },
  {
   "cell_type": "code",
   "execution_count": 3,
   "id": "42bacbb8",
   "metadata": {},
   "outputs": [],
   "source": [
    "import gensim\n",
    "import gensim.models\n",
    "from gensim.test.utils import datapath\n",
    "from gensim import utils\n",
    "\n",
    "class Quran7TransCorpus:\n",
    "    def __iter__(self):\n",
    "        corpus_path = datapath('path of corpus')\n",
    "        for line in open(corpus_path):\n",
    "            # Convert a ayah into a list of lowercase tokens\n",
    "            yield utils.simple_preprocess(line)"
   ]
  },
  {
   "cell_type": "code",
   "execution_count": 4,
   "id": "bca67edd",
   "metadata": {},
   "outputs": [],
   "source": [
    "# model generating \n",
    "sentences = Quran7TransCorpus()\n",
    "model = gensim.models.Word2Vec(sentences=sentences, epochs=100, window=5,sg=2) # cbow=2"
   ]
  },
  {
   "cell_type": "code",
   "execution_count": 5,
   "id": "b08ebb30",
   "metadata": {},
   "outputs": [],
   "source": [
    "# geting cosine similarity\n",
    "result_dict={}\n",
    "sen_1 ='He said Never would I prostrate to a human whom You created out of clay from an altered black mud'\n",
    "sen_1_words = [w for w in sen_1.lower().split() if w in model.wv.key_to_index]\n",
    "\n",
    "for sen_2 in q_sents:\n",
    "    sen_2_words=[]\n",
    "    sen_2_words = [w for w in sen_2.replace('\\n','').split() if w in model.wv.key_to_index]\n",
    "    if (sen_2_words):\n",
    "        distance = model.wv.n_similarity(sen_1_words, sen_2_words)\n",
    "        if (distance >= 0.90):\n",
    "            result_dict[sen_2] = distance"
   ]
  },
  {
   "cell_type": "code",
   "execution_count": 8,
   "id": "7c1e56a2",
   "metadata": {},
   "outputs": [],
   "source": [
    "# sord result\n",
    "import operator\n",
    "result_dict_sorted = sorted(result_dict.items(), key=lambda x: x[1], reverse=True)"
   ]
  },
  {
   "cell_type": "code",
   "execution_count": 12,
   "id": "3e5f6f08",
   "metadata": {},
   "outputs": [
    {
     "data": {
      "text/plain": [
       "[('he said never would i prostrate to a human whom you created out of clay from an altered black mud.\\n',\n",
       "  0.9888844),\n",
       " ('and [mention o muhammad] when your lord said to the angels i will create a human being out of clay from an altered black mud.\\n',\n",
       "  0.9531027),\n",
       " ('[iblis (satan)] said: i am not the one to prostrate myself to a human being whom you created from sounding clay of altered black smooth mud.\\n',\n",
       "  0.9510474),\n",
       " ('and we did certainly create man out of clay from an altered black mud.\\n',\n",
       "  0.9415908),\n",
       " (\"and (remember) when thy lord said unto the angels: lo! i am creating a mortal out of potter's clay of black mud altered\\n\",\n",
       "  0.9410986),\n",
       " (\"verily we created man of potter's clay of black mud altered\\n\", 0.9332449),\n",
       " ('and (remember) when your lord said to the angels: i am going to create a man (adam) from sounding clay of altered black smooth mud.\\n',\n",
       "  0.93065745),\n",
       " (\"he said: i am not one to prostrate myself unto a mortal whom thou hast created out of potter's clay of black mud altered!\\n\",\n",
       "  0.9289299),\n",
       " ('and certainly we created man of clay that gives forth sound of black mud fashioned in shape.\\n',\n",
       "  0.92210877),\n",
       " ('and indeed we created man from sounding clay of altered black smooth mud.\\n',\n",
       "  0.91856813),\n",
       " ('behold! thy lord said to the angels: i am about to create man from sounding clay from mud moulded into shape;\\n',\n",
       "  0.9176873),\n",
       " ('(iblis) said: i am not one to prostrate myself to man whom thou didst create from sounding clay from mud moulded into shape.\\n',\n",
       "  0.9169309),\n",
       " ('we created man from sounding clay from mud moulded into shape;\\n',\n",
       "  0.9152085),\n",
       " ('surely we created man of a clay of mud moulded\\n', 0.91485673),\n",
       " (\"said he 'i would never bow myself before a mortal whom thou hast created of a clay of mud moulded.'\\n\",\n",
       "  0.90113354)]"
      ]
     },
     "execution_count": 12,
     "metadata": {},
     "output_type": "execute_result"
    }
   ],
   "source": [
    "# print similar ayahs\n",
    "result_dict_sorted"
   ]
  },
  {
   "cell_type": "code",
   "execution_count": null,
   "id": "a69ea266",
   "metadata": {},
   "outputs": [],
   "source": []
  }
 ],
 "metadata": {
  "kernelspec": {
   "display_name": "Python 3",
   "language": "python",
   "name": "python3"
  },
  "language_info": {
   "codemirror_mode": {
    "name": "ipython",
    "version": 3
   },
   "file_extension": ".py",
   "mimetype": "text/x-python",
   "name": "python",
   "nbconvert_exporter": "python",
   "pygments_lexer": "ipython3",
   "version": "3.8.8"
  }
 },
 "nbformat": 4,
 "nbformat_minor": 5
}
