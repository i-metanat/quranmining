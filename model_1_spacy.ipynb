{
 "cells": [
  {
   "cell_type": "code",
   "execution_count": null,
   "id": "51bad2ee",
   "metadata": {},
   "outputs": [],
   "source": [
    "## Model #5 - cosine similarity by Spacy lib (en_core_md)"
   ]
  },
  {
   "cell_type": "code",
   "execution_count": 18,
   "id": "918e3a97",
   "metadata": {},
   "outputs": [],
   "source": [
    "# reading english translate file of quran (Includes 7 files)\n",
    "f = open(\"en.all_7.txt\",\"r\", encoding=\"utf-8-sig\")\n",
    "lines = f.readlines()"
   ]
  },
  {
   "cell_type": "code",
   "execution_count": 23,
   "id": "846f4f8a",
   "metadata": {},
   "outputs": [],
   "source": [
    "# split ayahs and pre-processing\n",
    "q_sents=[]\n",
    "for line in lines:\n",
    "    q_sents.append(line.split('|')[2].lower())"
   ]
  },
  {
   "cell_type": "code",
   "execution_count": 19,
   "id": "c52a8bbc",
   "metadata": {},
   "outputs": [],
   "source": [
    "# load en_core_web_md file (corpus file)\n",
    "import en_core_web_md\n",
    "nlp = en_core_web_md.load()"
   ]
  },
  {
   "cell_type": "code",
   "execution_count": 28,
   "id": "bb911073",
   "metadata": {},
   "outputs": [],
   "source": [
    "import spacy\n",
    "\n",
    "# geting cosine similarity\n",
    "result_dict={}\n",
    "sen_1 = nlp(('He said Never would I prostrate to a human whom You created out of clay from an altered black mud').lower())\n",
    "#sen_1_words = [w for w in sen_1 if w in model.wv.key_to_index]\n",
    "\n",
    "for sen_2 in q_sents:\n",
    "    #sen_2_words=[]\n",
    "    #sen_2_words = [w for w in preprocess_string(sen_2) if w in model.wv.key_to_index]\n",
    "    #if (sen_2_words):\n",
    "    distance = sen_1.similarity(nlp(sen_2))\n",
    "    if (distance >= 0.90):\n",
    "        result_dict[sen_2] = distance\n",
    "#doc = nlp('this Is a Text')\n",
    "#print(doc.text)"
   ]
  },
  {
   "cell_type": "code",
   "execution_count": null,
   "id": "b43c5043",
   "metadata": {},
   "outputs": [],
   "source": [
    "# sord result\n",
    "import operator\n",
    "result_dict_sorted = sorted(result_dict.items(), key=lambda x: x[1], reverse=True)[:10]"
   ]
  },
  {
   "cell_type": "code",
   "execution_count": null,
   "id": "339e1518",
   "metadata": {
    "scrolled": true
   },
   "outputs": [],
   "source": [
    "result_dict_sorted"
   ]
  },
  {
   "cell_type": "code",
   "execution_count": null,
   "id": "34a29a5b",
   "metadata": {},
   "outputs": [],
   "source": []
  }
 ],
 "metadata": {
  "kernelspec": {
   "display_name": "Python 3",
   "language": "python",
   "name": "python3"
  },
  "language_info": {
   "codemirror_mode": {
    "name": "ipython",
    "version": 3
   },
   "file_extension": ".py",
   "mimetype": "text/x-python",
   "name": "python",
   "nbconvert_exporter": "python",
   "pygments_lexer": "ipython3",
   "version": "3.8.8"
  }
 },
 "nbformat": 4,
 "nbformat_minor": 5
}
