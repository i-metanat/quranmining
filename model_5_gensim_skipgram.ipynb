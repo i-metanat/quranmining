{
 "cells": [
  {
   "cell_type": "markdown",
   "id": "74562192",
   "metadata": {},
   "source": [
    "# Word2Vec By Gensim"
   ]
  },
  {
   "cell_type": "markdown",
   "id": "ab9bd4c2",
   "metadata": {},
   "source": [
    "### Model #3 - CBOW - Window size = 5 , Epochs = 50 , With Pre-Processing"
   ]
  },
  {
   "cell_type": "code",
   "execution_count": 1,
   "id": "31d5251a",
   "metadata": {},
   "outputs": [],
   "source": [
    "# reading english translate file of quran (Includes 7 files)\n",
    "f = open(\"en.all_7.txt\",\"r\", encoding=\"utf-8-sig\")\n",
    "lines = f.readlines()"
   ]
  },
  {
   "cell_type": "code",
   "execution_count": 2,
   "id": "e2921c11",
   "metadata": {},
   "outputs": [],
   "source": [
    "# split ayahs and pre-processing\n",
    "from gensim.parsing.preprocessing import remove_stopwords, preprocess_string\n",
    "\n",
    "q_sents=[]\n",
    "for line in lines:\n",
    "    q_sents.append(remove_stopwords(line.split('|')[2]))"
   ]
  },
  {
   "cell_type": "code",
   "execution_count": 3,
   "id": "42bacbb8",
   "metadata": {},
   "outputs": [],
   "source": [
    "import gensim\n",
    "import gensim.models\n",
    "from gensim.test.utils import datapath\n",
    "from gensim import utils\n",
    "\n",
    "class Quran7TransCorpus:\n",
    "    def __iter__(self):\n",
    "        corpus_path = datapath('path of corpus')\n",
    "        for line in open(corpus_path):\n",
    "            # Convert a ayah into a list of lowercase tokens\n",
    "            #yield utils.simple_preprocess(line)\n",
    "            yield preprocess_string(line)"
   ]
  },
  {
   "cell_type": "code",
   "execution_count": 4,
   "id": "bca67edd",
   "metadata": {},
   "outputs": [],
   "source": [
    "# model generating \n",
    "sentences = Quran7TransCorpus()\n",
    "model = gensim.models.Word2Vec(sentences=sentences, epochs=100, window=5,sg=1)"
   ]
  },
  {
   "cell_type": "code",
   "execution_count": 5,
   "id": "b08ebb30",
   "metadata": {},
   "outputs": [],
   "source": [
    "# geting cosine similarity\n",
    "result_dict={}\n",
    "sen_1=preprocess_string('He said Never would I prostrate to a human whom You created out of clay from an altered black mud')\n",
    "sen_1_words = [w for w in sen_1 if w in model.wv.key_to_index]\n",
    "\n",
    "\n",
    "for sen_2 in q_sents:\n",
    "    sen_2_words=[]\n",
    "    sen_2_words = [w for w in preprocess_string(sen_2) if w in model.wv.key_to_index]\n",
    "    if (sen_2_words):\n",
    "        distance = model.wv.n_similarity(sen_1_words, sen_2_words)\n",
    "        if (distance >= 0.90):\n",
    "            result_dict[sen_2] = distance"
   ]
  },
  {
   "cell_type": "code",
   "execution_count": 6,
   "id": "7c1e56a2",
   "metadata": {},
   "outputs": [],
   "source": [
    "# sord result\n",
    "import operator\n",
    "result_dict_sorted = sorted(result_dict.items(), key=lambda x: x[1], reverse=True)"
   ]
  },
  {
   "cell_type": "code",
   "execution_count": 7,
   "id": "3e5f6f08",
   "metadata": {},
   "outputs": [
    {
     "data": {
      "text/plain": [
       "[('He said, \"Never I prostrate human You created clay altered black mud.\"',\n",
       "  0.99999994),\n",
       " (\"Verily We created man potter's clay black mud altered,\", 0.97203124),\n",
       " ('And We certainly create man clay altered black mud.', 0.96800774),\n",
       " (\"He said: I prostrate unto mortal Thou hast created potter's clay black mud altered!\",\n",
       "  0.959793),\n",
       " ('And [mention, O Muhammad], Lord said angels, \"I create human clay altered black mud.',\n",
       "  0.95883),\n",
       " (\"And (remember) thy Lord said unto angels: Lo! I creating mortal potter's clay black mud altered,\",\n",
       "  0.95223224),\n",
       " ('[Iblis (Satan)] said: \"I prostrate human being, You created sounding clay altered black smooth mud.\"',\n",
       "  0.94791853),\n",
       " ('And indeed, We created man sounding clay altered black smooth mud.',\n",
       "  0.9440803),\n",
       " ('And (remember) Lord said angels: \"I going create man (Adam) sounding clay altered black smooth mud.',\n",
       "  0.9376899),\n",
       " ('We created man sounding clay, mud moulded shape;', 0.9345718),\n",
       " ('We created human pure mud-moulded clay', 0.9298021),\n",
       " ('Surely We created man clay mud moulded,', 0.9279609),\n",
       " ('And certainly We created man clay gives forth sound, black mud fashioned shape.',\n",
       "  0.9274637),\n",
       " ('When Lord said angels, \"I create human pure mud-moulded clay.', 0.9233356),\n",
       " ('Iblis replied, \"I want prostrate human You created mud-moulded clay\".',\n",
       "  0.9213661),\n",
       " ('Behold! thy Lord said angels: \"I create man, sounding clay mud moulded shape;',\n",
       "  0.92003685),\n",
       " ('(Iblis) said: \"I prostrate man, Thou didst create sounding clay, mud moulded shape.\"',\n",
       "  0.91926646),\n",
       " (\"Said he, 'I bow mortal Thou hast created clay mud moulded.'\", 0.9160522),\n",
       " (\"And thy Lord said angels, 'See, I creating mortal clay mud moulded.\",\n",
       "  0.91601145),\n",
       " (\"He created man clay like potter's,\", 0.90682554)]"
      ]
     },
     "execution_count": 7,
     "metadata": {},
     "output_type": "execute_result"
    }
   ],
   "source": [
    "# print similar ayahs\n",
    "result_dict_sorted"
   ]
  },
  {
   "cell_type": "code",
   "execution_count": null,
   "id": "2d483ccd",
   "metadata": {},
   "outputs": [],
   "source": []
  }
 ],
 "metadata": {
  "kernelspec": {
   "display_name": "Python 3",
   "language": "python",
   "name": "python3"
  },
  "language_info": {
   "codemirror_mode": {
    "name": "ipython",
    "version": 3
   },
   "file_extension": ".py",
   "mimetype": "text/x-python",
   "name": "python",
   "nbconvert_exporter": "python",
   "pygments_lexer": "ipython3",
   "version": "3.8.8"
  }
 },
 "nbformat": 4,
 "nbformat_minor": 5
}
